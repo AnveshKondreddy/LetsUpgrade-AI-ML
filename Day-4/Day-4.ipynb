{
 "cells": [
  {
   "cell_type": "code",
   "execution_count": 11,
   "metadata": {},
   "outputs": [
    {
     "name": "stdout",
     "output_type": "stream",
     "text": [
      "(2+5j)\n",
      "-1j\n",
      "(-5+5j)\n",
      "(0.7000000000000001-0.1j)\n"
     ]
    }
   ],
   "source": [
    "# Question 1 :\n",
    "# Research on whether addition, subtraction, multiplication, division, floor division and modulo\n",
    "# operations be performed on complex numbers. Based on your study, implement a Python\n",
    "# program to demonstrate these operations.\n",
    "x=1+2j\n",
    "y=1+3J\n",
    "\n",
    "# Addition\n",
    "print(x+y)\n",
    "\n",
    "# Substraction\n",
    "print(x-y)\n",
    "\n",
    "# Multiplication\n",
    "print(x*y)\n",
    "\n",
    "# Division\n",
    "print(x/y)\n",
    "\n",
    "# Modulo\n",
    "# print(x%y)\n",
    "# Modulos cannot be performed on complex numbers"
   ]
  },
  {
   "cell_type": "markdown",
   "metadata": {},
   "source": [
    "Question 2 :\n",
    "Research on range() functions and its parameters. Create a markdown cell and write in your own\n",
    "words (no copy-paste from google please) what you understand about it. Implement a small\n",
    "program of your choice on the same.\n",
    "\n",
    "Python range() function creates a sequence;\n",
    "range() takes 3 parameters\n",
    "range(sequence_Start,sequence_End,step)\n",
    "sequence_Start - Start number for sequence. Default sequence start if not provided is 0.\n",
    "sequence_End - End number of sequence. This is Mandatory.\n",
    "step - Step to increment from sequence_Start to sequence_End. Default is 1 step increment."
   ]
  },
  {
   "cell_type": "code",
   "execution_count": 32,
   "metadata": {},
   "outputs": [
    {
     "name": "stdout",
     "output_type": "stream",
     "text": [
      "-1\n",
      "-2\n",
      "-3\n",
      "-4\n",
      "-5\n",
      "-6\n",
      "-7\n",
      "-8\n",
      "-9\n",
      "-10\n",
      "-11\n",
      "-12\n",
      "-13\n",
      "-14\n",
      "-15\n",
      "-16\n",
      "-17\n",
      "-18\n",
      "-19\n"
     ]
    }
   ],
   "source": [
    "x=range(-1,-20,-1)\n",
    "for i in x:\n",
    "    print(i)"
   ]
  },
  {
   "cell_type": "code",
   "execution_count": 35,
   "metadata": {},
   "outputs": [
    {
     "name": "stdout",
     "output_type": "stream",
     "text": [
      "0.6666666666666666\n"
     ]
    }
   ],
   "source": [
    "# Question 3:\n",
    "# Consider two numbers. Perform their subtraction and if the result of subtraction is greater than\n",
    "# 25, print their multiplication result else print their division result.\n",
    "x,y=150,100\n",
    "\n",
    "if y-x>25:\n",
    "    print(y*x)\n",
    "else:\n",
    "    print(y/x)"
   ]
  },
  {
   "cell_type": "code",
   "execution_count": 43,
   "metadata": {},
   "outputs": [
    {
     "name": "stdout",
     "output_type": "stream",
     "text": [
      "14\n",
      "98\n",
      "254\n",
      "482\n",
      "782\n"
     ]
    }
   ],
   "source": [
    "# Question 4:\n",
    "# Consider a list of 10 elements of integer values. If the number in the list is divisible by 2, print the\n",
    "# result as \"square of that number minus 2\".\n",
    "x=range(1,30,3)\n",
    "for i in x:\n",
    "    if i%2==0:\n",
    "        print(i**2-2)"
   ]
  },
  {
   "cell_type": "code",
   "execution_count": 55,
   "metadata": {},
   "outputs": [
    {
     "name": "stdout",
     "output_type": "stream",
     "text": [
      "8\n",
      "10\n",
      "12\n",
      "14\n",
      "16\n",
      "18\n",
      "20\n"
     ]
    }
   ],
   "source": [
    "# Question 5:\n",
    "# Consider a list of 10 elements. Print all the elements in the list which are greater than 7 when that\n",
    "# number is divided 2.\n",
    "x=range(2,22,2)\n",
    "for i in x:\n",
    "    if i>7 and i%2==0:\n",
    "        print(i)"
   ]
  },
  {
   "cell_type": "code",
   "execution_count": null,
   "metadata": {},
   "outputs": [],
   "source": []
  },
  {
   "cell_type": "code",
   "execution_count": null,
   "metadata": {},
   "outputs": [],
   "source": []
  }
 ],
 "metadata": {
  "kernelspec": {
   "display_name": "Python 3",
   "language": "python",
   "name": "python3"
  },
  "language_info": {
   "codemirror_mode": {
    "name": "ipython",
    "version": 3
   },
   "file_extension": ".py",
   "mimetype": "text/x-python",
   "name": "python",
   "nbconvert_exporter": "python",
   "pygments_lexer": "ipython3",
   "version": "3.7.6"
  },
  "varInspector": {
   "cols": {
    "lenName": 16,
    "lenType": 16,
    "lenVar": 40
   },
   "kernels_config": {
    "python": {
     "delete_cmd_postfix": "",
     "delete_cmd_prefix": "del ",
     "library": "var_list.py",
     "varRefreshCmd": "print(var_dic_list())"
    },
    "r": {
     "delete_cmd_postfix": ") ",
     "delete_cmd_prefix": "rm(",
     "library": "var_list.r",
     "varRefreshCmd": "cat(var_dic_list()) "
    }
   },
   "types_to_exclude": [
    "module",
    "function",
    "builtin_function_or_method",
    "instance",
    "_Feature"
   ],
   "window_display": false
  }
 },
 "nbformat": 4,
 "nbformat_minor": 2
}
