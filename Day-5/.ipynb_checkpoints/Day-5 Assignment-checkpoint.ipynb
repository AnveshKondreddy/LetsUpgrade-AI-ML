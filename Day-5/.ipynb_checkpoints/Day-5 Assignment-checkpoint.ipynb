{
 "cells": [
  {
   "cell_type": "code",
   "execution_count": 8,
   "metadata": {},
   "outputs": [
    {
     "name": "stdout",
     "output_type": "stream",
     "text": [
      "2\n",
      "3\n",
      "5\n",
      "7\n",
      "11\n",
      "13\n",
      "17\n",
      "19\n",
      "23\n",
      "29\n",
      "31\n",
      "37\n",
      "41\n",
      "43\n",
      "47\n",
      "53\n",
      "59\n",
      "61\n",
      "67\n",
      "71\n",
      "73\n"
     ]
    }
   ],
   "source": [
    "# Question 1 :\n",
    "# Write a Python program to find the first 20 non-even prime natural numbers.\n",
    "count=0\n",
    "num=1\n",
    "while count<=20:\n",
    "    #if num%2 !=0:\n",
    "    divCount=0\n",
    "    for i in range(2,num-1):\n",
    "        if num % i==0:\n",
    "            divCount=divCount+1\n",
    "    if divCount==0 and num !=1:\n",
    "        print(num)\n",
    "        count=count+1\n",
    "    num=num+1"
   ]
  },
  {
   "cell_type": "code",
   "execution_count": 92,
   "metadata": {},
   "outputs": [
    {
     "name": "stdout",
     "output_type": "stream",
     "text": [
      "Anvesh_123 anvesh  \n",
      "anvesh_123 anvesh  \n",
      "-----anvesh_123 Anvesh  ------\n",
      "3\n",
      "b'anvesh_123 Anvesh  '\n",
      "True\n",
      "A   n   v   e   s   h\n",
      "6\n",
      "Hello Anvesh\n",
      "6\n",
      "True\n",
      "True\n",
      "123Anvesh\n",
      "14\n",
      "('', 'a', 'nvesh_123 Anvesh  ')\n",
      "ANVESH_123 aNVESH  \n",
      "anvesh_123 Anvesh\n",
      "Anvesh_123 Anvesh  \n",
      "0000000000000000123q\n"
     ]
    }
   ],
   "source": [
    "# Question 2 :\n",
    "# Write a Python program to implement 15 functions of string.\n",
    "x=\"anvesh_123 Anvesh  \"\n",
    "y=\"A\\tn\\tv\\te\\ts\\th\"\n",
    "z=\"Hello {x}\"\n",
    "a=\"123q\"\n",
    "b=\"abc\"\n",
    "print(x.capitalize())\n",
    "print(x.casefold())\n",
    "print(x.center(30,'-'))\n",
    "print(x.count(' '))\n",
    "print(x.encode())\n",
    "print(x.endswith(' '))\n",
    "print(y.expandtabs(4))\n",
    "print(x.find('_'))\n",
    "print(z.format(x=\"Anvesh\"))\n",
    "print(x.index(\"_\"))\n",
    "print(a.isalnum())\n",
    "print(b.isalpha())\n",
    "print(a.replace('q','Anvesh'))\n",
    "print(x.rfind(\"e\"))\n",
    "print(x.rpartition('a'))\n",
    "print(x.swapcase())\n",
    "print(x.strip())\n",
    "print(x.title())\n",
    "print(a.zfill(20))\n"
   ]
  },
  {
   "cell_type": "code",
   "execution_count": 96,
   "metadata": {},
   "outputs": [
    {
     "name": "stdout",
     "output_type": "stream",
     "text": [
      "madam  is Palindrome\n"
     ]
    }
   ],
   "source": [
    "# Question 3:\n",
    "# Write a Python program to check if the given string is a Palindrome or Anagram or None of them.\n",
    "# Display the message accordingly to the user.\n",
    "x=\"madam\"\n",
    "if x==x[::-1]:\n",
    "    print(x, \" is Palindrome\")\n",
    "else:\n",
    "    print(x, \"is not Palindrome\")\n",
    "    "
   ]
  },
  {
   "cell_type": "code",
   "execution_count": 109,
   "metadata": {},
   "outputs": [
    {
     "name": "stdout",
     "output_type": "stream",
     "text": [
      "anveshkasasanvesh\n"
     ]
    }
   ],
   "source": [
    "# Question 4:\n",
    "# Write a Python's user defined function that removes all the additional characters from the string\n",
    "# and converts it finally to lower case using built-in lower(). eg: If the string is \"Dr. Darshan Ingle\n",
    "# @AI-ML Trainer\", then the output be \"drdarshaningleaimltrainer\".\n",
    "\n",
    "x='Anvesh.K_12_asas__@__Anvesh'\n",
    "\n",
    "def getAlphaFromString(input):    \n",
    "    output=''\n",
    "    for i in list(input):\n",
    "        if i.isalpha():\n",
    "            output=output+i\n",
    "    return output.lower()\n",
    "\n",
    "print(getAlphaFromString(x))\n",
    "        "
   ]
  },
  {
   "cell_type": "code",
   "execution_count": null,
   "metadata": {},
   "outputs": [],
   "source": []
  }
 ],
 "metadata": {
  "kernelspec": {
   "display_name": "Python 3",
   "language": "python",
   "name": "python3"
  },
  "language_info": {
   "codemirror_mode": {
    "name": "ipython",
    "version": 3
   },
   "file_extension": ".py",
   "mimetype": "text/x-python",
   "name": "python",
   "nbconvert_exporter": "python",
   "pygments_lexer": "ipython3",
   "version": "3.7.6"
  },
  "varInspector": {
   "cols": {
    "lenName": 16,
    "lenType": 16,
    "lenVar": 40
   },
   "kernels_config": {
    "python": {
     "delete_cmd_postfix": "",
     "delete_cmd_prefix": "del ",
     "library": "var_list.py",
     "varRefreshCmd": "print(var_dic_list())"
    },
    "r": {
     "delete_cmd_postfix": ") ",
     "delete_cmd_prefix": "rm(",
     "library": "var_list.r",
     "varRefreshCmd": "cat(var_dic_list()) "
    }
   },
   "types_to_exclude": [
    "module",
    "function",
    "builtin_function_or_method",
    "instance",
    "_Feature"
   ],
   "window_display": false
  }
 },
 "nbformat": 4,
 "nbformat_minor": 2
}
