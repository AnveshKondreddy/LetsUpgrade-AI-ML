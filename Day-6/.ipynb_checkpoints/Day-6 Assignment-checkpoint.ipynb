{
 "cells": [
  {
   "cell_type": "code",
   "execution_count": 1,
   "metadata": {},
   "outputs": [],
   "source": [
    "# Question 1:\n",
    "# Assuming that we have some email addresses in the \"username@companyname.com\" format, please write program\n",
    "# to print the company name of a given email address. Both user names and company names are composed of letters\n",
    "# only.\n",
    "# Input Format:\n",
    "# The first line of the input contains an email address.\n",
    "# Output Format:\n",
    "# Print the company name in single line.\n",
    "# Example;\n",
    "# Input:\n",
    "# john@google.com\n",
    "# Output:\n",
    "# google\n",
    "\n",
    "def getCompanyNameFromEmail(email):\n",
    "    print(email.split('@')[1].split('.')[0])\n",
    "\n",
    "getCompanyNameFromEmail(\"abc@letsupgrade.com\")"
   ]
  },
  {
   "cell_type": "code",
   "execution_count": 40,
   "metadata": {},
   "outputs": [
    {
     "name": "stdout",
     "output_type": "stream",
     "text": [
      "['without', 'hello', 'bag', 'world']\n"
     ]
    }
   ],
   "source": [
    "# Question 2:\n",
    "# Write a program that accepts a comma-separated sequence of words as input and prints the words in a comma\n",
    "# separated sequence after sorting them alphabetically.\n",
    "# Input Format:\n",
    "# The first line of input contains words separated by the comma.\n",
    "# Output Format:\n",
    "# Print the sorted words separated by the comma.\n",
    "# Example:\n",
    "# Input:\n",
    "# without,hello,bag,world\n",
    "# Output:\n",
    "# bag,hello,without,world\n",
    "\n",
    "ls=[\"without\",\"hello\",\"bag\",\"world\"]\n",
    "def sortList(ls):\n",
    "    print(ls.sort())\n",
    "print(ls)"
   ]
  },
  {
   "cell_type": "markdown",
   "metadata": {},
   "source": [
    "#Question 3:\n",
    "#Create your own Jupyter Notebook for Sets.\n",
    "#Reference link: https://www.w3schools.com/python/python_sets.asp\n",
    "\n",
    "- Set is an unordered, unindexed collection of items. Items are enclosed in {}\n",
    "Ex: x={1,2,3}\n",
    "y={'a','b','c'}\n",
    "\n",
    "- For loop can be used on sets, but cannot be accessed by index unlike Lists\n",
    "for i in x:\n",
    "    print(i)\n",
    "    \n",
    "- Lists can be converted to Sets.\n",
    "z=[4,5,6]\n",
    "x.update(z)\n",
    "OutPut: {1, 2, 3, 4, 5, 6}\n",
    "\n",
    "- pop() method removed random element from Set\n",
    "print(x.pop())\n",
    "\n",
    "- Set removed duplicate elements"
   ]
  },
  {
   "cell_type": "code",
   "execution_count": 3,
   "metadata": {},
   "outputs": [
    {
     "name": "stdout",
     "output_type": "stream",
     "text": [
      "{3, 1, 2, '1'}\n",
      "{1, 2, 3, 4, 5, 6, '1'}\n",
      "{4, 5, 6}\n",
      "{1, 2, 3, 4, 5, 6, '1'}\n"
     ]
    }
   ],
   "source": [
    "x={1,'1',2,3}\n",
    "y={'a','b','c'}\n",
    "z=[4,5,6]\n",
    "print(x)\n",
    "x.update(z)\n",
    "print(x)\n",
    "print(x.intersection(z))\n",
    "print(x)"
   ]
  },
  {
   "cell_type": "code",
   "execution_count": 38,
   "metadata": {},
   "outputs": [
    {
     "name": "stdout",
     "output_type": "stream",
     "text": [
      "[1, 2, 3, 4, 6, 7, 8]\n",
      "5\n"
     ]
    }
   ],
   "source": [
    "# Question 4:\n",
    "# Given a list of n-1 numbers ranging from 1 to n, your task is to find the missing number. There are no duplicates.\n",
    "# Input Format:\n",
    "# The first line contains n-1 numbers with each number separated by a space.\n",
    "# Output Format:\n",
    "# Print the missing number\n",
    "# Example:\n",
    "# Input:1 2 4 6 3 7 8\n",
    "# Output:5\n",
    "\n",
    "x=\"1 2 3 4 6 7 8\"\n",
    "import functools\n",
    "from functools import reduce\n",
    "\n",
    "y=list(map(int, x.split(' ')))\n",
    "print(y)\n",
    "\n",
    "for i in range(y[0],y[-1]+1):\n",
    "    if i not in y:\n",
    "        print(i)"
   ]
  },
  {
   "cell_type": "code",
   "execution_count": null,
   "metadata": {},
   "outputs": [],
   "source": []
  }
 ],
 "metadata": {
  "kernelspec": {
   "display_name": "Python 3",
   "language": "python",
   "name": "python3"
  },
  "language_info": {
   "codemirror_mode": {
    "name": "ipython",
    "version": 3
   },
   "file_extension": ".py",
   "mimetype": "text/x-python",
   "name": "python",
   "nbconvert_exporter": "python",
   "pygments_lexer": "ipython3",
   "version": "3.7.6"
  },
  "varInspector": {
   "cols": {
    "lenName": 16,
    "lenType": 16,
    "lenVar": 40
   },
   "kernels_config": {
    "python": {
     "delete_cmd_postfix": "",
     "delete_cmd_prefix": "del ",
     "library": "var_list.py",
     "varRefreshCmd": "print(var_dic_list())"
    },
    "r": {
     "delete_cmd_postfix": ") ",
     "delete_cmd_prefix": "rm(",
     "library": "var_list.r",
     "varRefreshCmd": "cat(var_dic_list()) "
    }
   },
   "types_to_exclude": [
    "module",
    "function",
    "builtin_function_or_method",
    "instance",
    "_Feature"
   ],
   "window_display": false
  }
 },
 "nbformat": 4,
 "nbformat_minor": 2
}
