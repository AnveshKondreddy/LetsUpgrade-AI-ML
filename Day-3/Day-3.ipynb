{
 "cells": [
  {
   "cell_type": "code",
   "execution_count": 3,
   "metadata": {},
   "outputs": [
    {
     "data": {
      "text/plain": [
       "(3+5j)"
      ]
     },
     "execution_count": 3,
     "metadata": {},
     "output_type": "execute_result"
    }
   ],
   "source": [
    "#Question 1 :\n",
    "#Write a program to subtract two complex numbers in Python\n",
    "a=1+2j\n",
    "b=2+3j\n",
    "a+b"
   ]
  },
  {
   "cell_type": "code",
   "execution_count": 39,
   "metadata": {},
   "outputs": [
    {
     "data": {
      "text/plain": [
       "2.0"
      ]
     },
     "execution_count": 39,
     "metadata": {},
     "output_type": "execute_result"
    }
   ],
   "source": [
    "# Question 2 :\n",
    "# Write a program to find the fourth root of a number\n",
    "16**(1/4)"
   ]
  },
  {
   "cell_type": "code",
   "execution_count": 40,
   "metadata": {},
   "outputs": [
    {
     "name": "stdout",
     "output_type": "stream",
     "text": [
      "Initial x: 98 y: 99\n",
      "Swapped number x: 99 y: 98\n"
     ]
    }
   ],
   "source": [
    "# Question 3:\n",
    "# Write a program to swap two numbers in Python with the help of a temporary variable\n",
    "x=98\n",
    "y=99\n",
    "print(\"Initial x:\",x,\"y:\",y)\n",
    "z=x;\n",
    "x=y;\n",
    "y=z\n",
    "print(\"Swapped number x:\",x,\"y:\",y)"
   ]
  },
  {
   "cell_type": "code",
   "execution_count": 16,
   "metadata": {},
   "outputs": [
    {
     "name": "stdout",
     "output_type": "stream",
     "text": [
      "Initial x: 98 y: 99\n",
      "Swapped number x: 99 y: 98\n"
     ]
    }
   ],
   "source": [
    "# Question 4:\n",
    "# Write a program to swap two numbers in Python without using a temporary variable\n",
    "x=98\n",
    "y=99\n",
    "print(\"Initial x:\",x,\"y:\",y)\n",
    "x,y=y,x\n",
    "print(\"Swapped number x:\",x,\"y:\",y)"
   ]
  },
  {
   "cell_type": "code",
   "execution_count": 23,
   "metadata": {},
   "outputs": [
    {
     "name": "stdout",
     "output_type": "stream",
     "text": [
      "Fahrenheit to Celsius :  17.77777777777778\n",
      "Fahrenheit to Kelvin :  290.92777777777775\n"
     ]
    }
   ],
   "source": [
    "# Question 5:\n",
    "# Write a program to convert fahrenheit to kelvin and celsius both.\n",
    "tF=64;\n",
    "tC=(tF-32)*(5/9)\n",
    "print(\"Fahrenheit to Celsius : \", tC)\n",
    "tK=tC+273.15\n",
    "print(\"Fahrenheit to Kelvin : \", tK)"
   ]
  },
  {
   "cell_type": "code",
   "execution_count": 38,
   "metadata": {},
   "outputs": [
    {
     "name": "stdout",
     "output_type": "stream",
     "text": [
      "<class 'int'>\n",
      "<class 'float'>\n",
      "<class 'complex'>\n",
      "<class 'str'>\n",
      "<class 'list'>\n",
      "<class 'tuple'>\n",
      "<class 'dict'>\n"
     ]
    }
   ],
   "source": [
    "# Question 6:\n",
    "# Write a program to demonstrate all the available data types in Python. Hint: Use type() function.\n",
    "print(type(1))\n",
    "print(type(1.24))\n",
    "print(type(1+2j))\n",
    "print(type('123'))\n",
    "x=[1,2,3]\n",
    "y=(1,2,3)\n",
    "z={'a':1,'b':2}\n",
    "print(type(x))\n",
    "print(type(y))\n",
    "print(type(z))"
   ]
  },
  {
   "cell_type": "markdown",
   "metadata": {},
   "source": [
    "Question 7:\n",
    "Create a Markdown cell in jupyter and list the steps discussed in the session by Dr. Darshan\n",
    "Ingle sir to create Github profile and upload Githubs Assignment link.\n",
    "1. Create a Github public repo and name it LetsUpgrade AI/ML \n",
    "2. Upload the files/solution in the repo in day wise manner.  \n",
    "3. Copy the URL of the Folder of that day and paste in the Assignment Submission Form (Google Form) w\n",
    "4. Make sure you are filling correct details in the Assignment Submission Form. \n",
    "5. All the drop-downs will be available till the week end only. i.e Previous weeks drop-down will disappear on each Sunday 11:59 PM"
   ]
  },
  {
   "cell_type": "code",
   "execution_count": null,
   "metadata": {},
   "outputs": [],
   "source": []
  }
 ],
 "metadata": {
  "kernelspec": {
   "display_name": "Python 3",
   "language": "python",
   "name": "python3"
  },
  "language_info": {
   "codemirror_mode": {
    "name": "ipython",
    "version": 3
   },
   "file_extension": ".py",
   "mimetype": "text/x-python",
   "name": "python",
   "nbconvert_exporter": "python",
   "pygments_lexer": "ipython3",
   "version": "3.7.6"
  }
 },
 "nbformat": 4,
 "nbformat_minor": 2
}
